{
 "cells": [
  {
   "metadata": {},
   "cell_type": "markdown",
   "source": "3.1: How many seconds are in an hour? Use the interactive interpreter as a calculator and multiply the number of seconds in a minute (60) by the number of minutes in an hour (also 60).",
   "id": "e8109230884295fe"
  },
  {
   "metadata": {
    "ExecuteTime": {
     "end_time": "2024-06-04T23:03:33.607010Z",
     "start_time": "2024-06-04T23:03:33.602727Z"
    }
   },
   "cell_type": "code",
   "source": "60 * 60",
   "id": "3eb08f2e1fbf6c01",
   "outputs": [
    {
     "data": {
      "text/plain": [
       "3600"
      ]
     },
     "execution_count": 6,
     "metadata": {},
     "output_type": "execute_result"
    }
   ],
   "execution_count": 6
  },
  {
   "metadata": {},
   "cell_type": "markdown",
   "source": "3.2: Assign the result from the previous task (seconds in an hour) to a variable called seconds_per_hour.",
   "id": "a3d3cd7df330601b"
  },
  {
   "metadata": {
    "ExecuteTime": {
     "end_time": "2024-06-04T23:01:03.253260Z",
     "start_time": "2024-06-04T23:01:03.250100Z"
    }
   },
   "cell_type": "code",
   "source": "seconds_per_hour = 60 * 60",
   "id": "907d8b4b0721e68d",
   "outputs": [],
   "execution_count": 3
  },
  {
   "metadata": {},
   "cell_type": "markdown",
   "source": "3.3: How many seconds are in a day? Use your seconds_per_hour variable.",
   "id": "b2a2fd6163c9f4b7"
  },
  {
   "metadata": {
    "ExecuteTime": {
     "end_time": "2024-06-04T23:01:36.206929Z",
     "start_time": "2024-06-04T23:01:36.202797Z"
    }
   },
   "cell_type": "code",
   "source": "24 * seconds_per_hour",
   "id": "13c9c4be800dd0b",
   "outputs": [
    {
     "data": {
      "text/plain": [
       "86400"
      ]
     },
     "execution_count": 4,
     "metadata": {},
     "output_type": "execute_result"
    }
   ],
   "execution_count": 4
  },
  {
   "metadata": {},
   "cell_type": "markdown",
   "source": "3.4: Calculate seconds per day again, but this time save the result in a variable called seconds_per_day.",
   "id": "d76279802b089f04"
  },
  {
   "metadata": {
    "ExecuteTime": {
     "end_time": "2024-06-04T23:02:44.157268Z",
     "start_time": "2024-06-04T23:02:44.154270Z"
    }
   },
   "cell_type": "code",
   "source": "seconds_per_day = seconds_per_hour * 24",
   "id": "f3dfd738c08c375a",
   "outputs": [],
   "execution_count": 5
  },
  {
   "metadata": {},
   "cell_type": "markdown",
   "source": "3.5: Divide seconds_per_day by seconds_per_hour. Use floating-point (/) division.",
   "id": "1c7624562d57901"
  },
  {
   "metadata": {
    "ExecuteTime": {
     "end_time": "2024-06-04T23:04:03.118681Z",
     "start_time": "2024-06-04T23:04:03.115225Z"
    }
   },
   "cell_type": "code",
   "source": "seconds_per_day / seconds_per_hour",
   "id": "e21e5f35ee121afc",
   "outputs": [
    {
     "data": {
      "text/plain": [
       "24.0"
      ]
     },
     "execution_count": 7,
     "metadata": {},
     "output_type": "execute_result"
    }
   ],
   "execution_count": 7
  },
  {
   "metadata": {},
   "cell_type": "markdown",
   "source": "3.6: Divide seconds_per_day by seconds_per_hour, using integer (//) division. Did this number agree with the floating-point value from the previous question aside from the final .0?",
   "id": "72b29f69fce5f7bd"
  },
  {
   "metadata": {
    "ExecuteTime": {
     "end_time": "2024-06-04T23:05:36.087762Z",
     "start_time": "2024-06-04T23:05:36.084025Z"
    }
   },
   "cell_type": "code",
   "source": "seconds_per_day // seconds_per_hour",
   "id": "d8e9de58611433b",
   "outputs": [
    {
     "data": {
      "text/plain": [
       "24"
      ]
     },
     "execution_count": 8,
     "metadata": {},
     "output_type": "execute_result"
    }
   ],
   "execution_count": 8
  },
  {
   "metadata": {},
   "cell_type": "markdown",
   "source": "This does agree with our previous question (3.5). We end up with 24 either way, as we're doing the operation: 86,400 / 3,600 and 86,400 is easily divisible by 3,600.",
   "id": "9ebe5229705f081a"
  }
 ],
 "metadata": {
  "kernelspec": {
   "display_name": "Python 3",
   "language": "python",
   "name": "python3"
  },
  "language_info": {
   "codemirror_mode": {
    "name": "ipython",
    "version": 2
   },
   "file_extension": ".py",
   "mimetype": "text/x-python",
   "name": "python",
   "nbconvert_exporter": "python",
   "pygments_lexer": "ipython2",
   "version": "2.7.6"
  }
 },
 "nbformat": 4,
 "nbformat_minor": 5
}
